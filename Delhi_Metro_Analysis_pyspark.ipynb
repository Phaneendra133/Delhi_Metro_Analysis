{
  "nbformat": 4,
  "nbformat_minor": 0,
  "metadata": {
    "colab": {
      "provenance": []
    },
    "kernelspec": {
      "name": "python3",
      "display_name": "Python 3"
    },
    "language_info": {
      "name": "python"
    }
  },
  "cells": [
    {
      "cell_type": "code",
      "execution_count": 1,
      "metadata": {
        "colab": {
          "base_uri": "https://localhost:8080/"
        },
        "id": "XOkmx6nZWUm9",
        "outputId": "8669d039-5baa-4692-db5c-b317555cb882"
      },
      "outputs": [
        {
          "output_type": "stream",
          "name": "stdout",
          "text": [
            "Collecting pyspark\n",
            "  Downloading pyspark-3.5.1.tar.gz (317.0 MB)\n",
            "\u001b[2K     \u001b[90m━━━━━━━━━━━━━━━━━━━━━━━━━━━━━━━━━━━━━━━━\u001b[0m \u001b[32m317.0/317.0 MB\u001b[0m \u001b[31m3.6 MB/s\u001b[0m eta \u001b[36m0:00:00\u001b[0m\n",
            "\u001b[?25h  Preparing metadata (setup.py) ... \u001b[?25l\u001b[?25hdone\n",
            "Requirement already satisfied: py4j==0.10.9.7 in /usr/local/lib/python3.10/dist-packages (from pyspark) (0.10.9.7)\n",
            "Building wheels for collected packages: pyspark\n",
            "  Building wheel for pyspark (setup.py) ... \u001b[?25l\u001b[?25hdone\n",
            "  Created wheel for pyspark: filename=pyspark-3.5.1-py2.py3-none-any.whl size=317488491 sha256=a9cb64ab1e58c15a25118cb69e3a4b02b8562df8e2ce44efa1388d1f98d6a130\n",
            "  Stored in directory: /root/.cache/pip/wheels/80/1d/60/2c256ed38dddce2fdd93be545214a63e02fbd8d74fb0b7f3a6\n",
            "Successfully built pyspark\n",
            "Installing collected packages: pyspark\n",
            "Successfully installed pyspark-3.5.1\n"
          ]
        }
      ],
      "source": [
        "pip install pyspark"
      ]
    },
    {
      "cell_type": "code",
      "source": [
        "from pyspark.sql import SparkSession\n",
        "spark=SparkSession.builder.appName('Delhi Metro Analysis').getOrCreate()"
      ],
      "metadata": {
        "id": "pamZO45kWW03"
      },
      "execution_count": 2,
      "outputs": []
    },
    {
      "cell_type": "code",
      "source": [
        "df=spark.read.csv('/content/sample_data/Delhi-Metro-Network.csv',header=True,inferSchema=True)\n",
        "print(df.show(20))"
      ],
      "metadata": {
        "colab": {
          "base_uri": "https://localhost:8080/"
        },
        "id": "IqJXLGtMWz24",
        "outputId": "dc0e6b64-42aa-41d1-a78f-d818de87d1d4"
      },
      "execution_count": 59,
      "outputs": [
        {
          "output_type": "stream",
          "name": "stdout",
          "text": [
            "+----------+--------------------+------------------------+------------+------------+--------------+-----------+-----------+\n",
            "|Station ID|        Station Name|Distance from Start (km)|        Line|Opening Date|Station Layout|   Latitude|  Longitude|\n",
            "+----------+--------------------+------------------------+------------+------------+--------------+-----------+-----------+\n",
            "|         1|            Jhil Mil|                    10.3|    Red line|  2008-04-06|      Elevated|   28.67579|   77.31239|\n",
            "|         2| Welcome [Conn: Red]|                    46.8|   Pink line|  2018-10-31|      Elevated|    28.6718|   77.27756|\n",
            "|         3|         DLF Phase 3|                    10.0| Rapid Metro|  2013-11-14|      Elevated|    28.4936|    77.0935|\n",
            "|         4|          Okhla NSIC|                    23.8|Magenta line|  2017-12-25|      Elevated| 28.5544828| 77.2648487|\n",
            "|         5|          Dwarka Mor|                    10.2|   Blue line|  2005-12-30|      Elevated|   28.61932|   77.03326|\n",
            "|         6|Dilli Haat INA [C...|                    24.9|   Pink line|  2018-06-08|   Underground|28.57440755|77.21024148|\n",
            "|         7|    Noida Sector 143|                    11.5|   Aqua line|  2019-01-25|      Elevated|28.50266325|77.42625566|\n",
            "|         8|           Moolchand|                    15.1| Voilet line|  2010-03-10|      Elevated|   28.56417|   77.23423|\n",
            "|         9|        Chawri Bazar|                    15.3| Yellow line|  2005-03-07|   Underground|   28.64931|   77.22637|\n",
            "|        10|           Maya Puri|                    12.8|   Pink line|  2018-03-14|      Elevated| 28.6371795| 77.1297333|\n",
            "|        11|Central Secretari...|                    19.4| Yellow line|  2005-03-07|   Underground|   28.61474|   77.21191|\n",
            "|        12|    Noida Sector 146|                    15.8|   Aqua line|  2019-01-25|      Elevated| 28.4082289|  76.963024|\n",
            "|        13|        Tikri Border|                    20.2|  Green line|  2018-06-24|      Elevated| 28.6880254| 76.9640828|\n",
            "|        14|            Jangpura|                    12.9| Voilet line|  2010-03-10|   Underground|    28.5843|   77.23766|\n",
            "|        15|  Major Mohit Sharma|                     5.7|    Red line|  2019-08-03|      Elevated| 28.6776112| 77.3581426|\n",
            "|        16|         Majlis Park|                     0.0|   Pink line|  2018-03-14|      Elevated| 28.7244312|  77.181964|\n",
            "|        17|  Bhikaji Cama Place|                    22.6|   Pink line|  2018-06-08|   Underground|28.56790025|77.18701648|\n",
            "|        18|Mundka Industrial...|                    15.0|  Green line|  2018-06-24|      Elevated| 28.6834491| 77.0171333|\n",
            "|        19|    Belvedere Towers|                     8.0| Rapid Metro|  2013-11-14|      Elevated|    28.4936|    77.0935|\n",
            "|        20|        Adarsh Nagar|                     4.7| Yellow line|  2009-04-02|      Elevated|   28.71642|   77.17046|\n",
            "+----------+--------------------+------------------------+------------+------------+--------------+-----------+-----------+\n",
            "only showing top 20 rows\n",
            "\n",
            "None\n"
          ]
        }
      ]
    },
    {
      "cell_type": "code",
      "source": [
        "print(df.printSchema())"
      ],
      "metadata": {
        "colab": {
          "base_uri": "https://localhost:8080/"
        },
        "id": "0WjjiPUgXI6y",
        "outputId": "f6218ffb-d70e-4878-9735-7f78e4c6d839"
      },
      "execution_count": 5,
      "outputs": [
        {
          "output_type": "stream",
          "name": "stdout",
          "text": [
            "root\n",
            " |-- Station ID: integer (nullable = true)\n",
            " |-- Station Name: string (nullable = true)\n",
            " |-- Distance from Start (km): double (nullable = true)\n",
            " |-- Line: string (nullable = true)\n",
            " |-- Opening Date: date (nullable = true)\n",
            " |-- Station Layout: string (nullable = true)\n",
            " |-- Latitude: double (nullable = true)\n",
            " |-- Longitude: double (nullable = true)\n",
            "\n",
            "None\n"
          ]
        }
      ]
    },
    {
      "cell_type": "code",
      "source": [
        "print(df.count())"
      ],
      "metadata": {
        "colab": {
          "base_uri": "https://localhost:8080/"
        },
        "id": "qJ1nmuSLXaKw",
        "outputId": "b2828c4b-6a61-471a-e3bd-bc1211cd8bbd"
      },
      "execution_count": 6,
      "outputs": [
        {
          "output_type": "stream",
          "name": "stdout",
          "text": [
            "285\n"
          ]
        }
      ]
    },
    {
      "cell_type": "code",
      "source": [
        "print(df.columns)"
      ],
      "metadata": {
        "colab": {
          "base_uri": "https://localhost:8080/"
        },
        "id": "LWTrkNVAXdYg",
        "outputId": "0e36fc78-209f-438b-9664-e8f807d6bc3a"
      },
      "execution_count": 7,
      "outputs": [
        {
          "output_type": "stream",
          "name": "stdout",
          "text": [
            "['Station ID', 'Station Name', 'Distance from Start (km)', 'Line', 'Opening Date', 'Station Layout', 'Latitude', 'Longitude']\n"
          ]
        }
      ]
    },
    {
      "cell_type": "code",
      "source": [
        "print(df.describe().show())"
      ],
      "metadata": {
        "colab": {
          "base_uri": "https://localhost:8080/"
        },
        "id": "C2_1gNfWYBxt",
        "outputId": "d6537f79-60ac-4a9c-b9b9-fd536a61e02f"
      },
      "execution_count": 8,
      "outputs": [
        {
          "output_type": "stream",
          "name": "stdout",
          "text": [
            "+-------+-----------------+------------+------------------------+-----------+--------------+-------------------+------------------+\n",
            "|summary|       Station ID|Station Name|Distance from Start (km)|       Line|Station Layout|           Latitude|         Longitude|\n",
            "+-------+-----------------+------------+------------------------+-----------+--------------+-------------------+------------------+\n",
            "|  count|              285|         285|                     285|        285|           285|                285|               285|\n",
            "|   mean|            143.0|        NULL|      19.218947368421052|       NULL|          NULL| 28.595428460526303| 77.02931474484211|\n",
            "| stddev|82.41662453655816|        NULL|      14.002861589363878|       NULL|          NULL|0.09131596056916262|2.8753996159706263|\n",
            "|    min|                1|       AIIMS|                     0.0|  Aqua line|      At-Grade|        27.92086195|        28.6988072|\n",
            "|    max|              285| Yamuna Bank|                    52.7|Yellow line|   Underground|          28.878965|       77.55447875|\n",
            "+-------+-----------------+------------+------------------------+-----------+--------------+-------------------+------------------+\n",
            "\n",
            "None\n"
          ]
        }
      ]
    },
    {
      "cell_type": "code",
      "source": [
        "print(df.select('Line','Distance from Start (km)','Station Layout').show())"
      ],
      "metadata": {
        "colab": {
          "base_uri": "https://localhost:8080/"
        },
        "id": "Ib9FCT0EYVzF",
        "outputId": "e4fbcf2b-6ee7-462c-82f2-2e59cdcbe19b"
      },
      "execution_count": 13,
      "outputs": [
        {
          "output_type": "stream",
          "name": "stdout",
          "text": [
            "+------------+------------------------+--------------+\n",
            "|        Line|Distance from Start (km)|Station Layout|\n",
            "+------------+------------------------+--------------+\n",
            "|    Red line|                    10.3|      Elevated|\n",
            "|   Pink line|                    46.8|      Elevated|\n",
            "| Rapid Metro|                    10.0|      Elevated|\n",
            "|Magenta line|                    23.8|      Elevated|\n",
            "|   Blue line|                    10.2|      Elevated|\n",
            "|   Pink line|                    24.9|   Underground|\n",
            "|   Aqua line|                    11.5|      Elevated|\n",
            "| Voilet line|                    15.1|      Elevated|\n",
            "| Yellow line|                    15.3|   Underground|\n",
            "|   Pink line|                    12.8|      Elevated|\n",
            "| Yellow line|                    19.4|   Underground|\n",
            "|   Aqua line|                    15.8|      Elevated|\n",
            "|  Green line|                    20.2|      Elevated|\n",
            "| Voilet line|                    12.9|   Underground|\n",
            "|    Red line|                     5.7|      Elevated|\n",
            "|   Pink line|                     0.0|      Elevated|\n",
            "|   Pink line|                    22.6|   Underground|\n",
            "|  Green line|                    15.0|      Elevated|\n",
            "| Rapid Metro|                     8.0|      Elevated|\n",
            "| Yellow line|                     4.7|      Elevated|\n",
            "+------------+------------------------+--------------+\n",
            "only showing top 20 rows\n",
            "\n",
            "None\n"
          ]
        }
      ]
    },
    {
      "cell_type": "code",
      "source": [
        "df_red=df.filter(df['Line']=='Red line')\n",
        "print(df_red.show())"
      ],
      "metadata": {
        "colab": {
          "base_uri": "https://localhost:8080/"
        },
        "id": "zvpQpwSnYaEU",
        "outputId": "805ccad7-68fb-433a-eea1-0d5ee36c0f8f"
      },
      "execution_count": 17,
      "outputs": [
        {
          "output_type": "stream",
          "name": "stdout",
          "text": [
            "+----------+--------------------+------------------------+--------+------------+--------------+----------+----------+\n",
            "|Station ID|        Station Name|Distance from Start (km)|    Line|Opening Date|Station Layout|  Latitude| Longitude|\n",
            "+----------+--------------------+------------------------+--------+------------+--------------+----------+----------+\n",
            "|         1|            Jhil Mil|                    10.3|Red line|  2008-04-06|      Elevated|  28.67579|  77.31239|\n",
            "|        15|  Major Mohit Sharma|                     5.7|Red line|  2019-08-03|      Elevated|28.6776112|77.3581426|\n",
            "|        42|        Keshav Puram|                    26.2|Red line|  2004-03-31|      Elevated|  28.68894|   77.1616|\n",
            "|        43|       Kohat Enclave|                    28.6|Red line|  2004-03-31|      Elevated|   28.6981|  77.14024|\n",
            "|        54|            Raj Bagh|                     6.9|Red line|  2019-08-03|      Elevated|28.6408602|77.2094999|\n",
            "|        59|          Pitam Pura|                    29.6|Red line|  2004-03-31|      Elevated|  28.70317|  77.13223|\n",
            "|        64|       Shastri Nagar|                    23.1|Red line|  2003-03-10|      Elevated|  28.66999|  77.18169|\n",
            "|        67|Kashmere Gate [Co...|                    18.5|Red line|  2002-12-24|      Elevated|   28.6675|  77.22817|\n",
            "|        68|     Mansarovar Park|                    11.4|Red line|  2008-04-06|      Elevated|  28.67544|  77.30095|\n",
            "|        71|          Tis Hazari|                    19.7|Red line|  2002-12-25|      Elevated|  28.66711|  77.21653|\n",
            "|        81|        Pratap Nagar|                    21.4|Red line|  2003-03-10|      Elevated|  28.66662|  77.19882|\n",
            "|       113|             Arthala|                     2.5|Red line|  2019-08-03|      Elevated| 28.676999|77.3918919|\n",
            "|       142|Welcome [Conn: Pink]|                    13.7|Red line|  2002-12-25|      Elevated|   28.6718|  77.27756|\n",
            "|       144|Rithala(last stat...|                    32.7|Red line|  2004-03-31|      Elevated|  28.72072|  77.10713|\n",
            "|       156|         Rohini East|                    30.4|Red line|  2004-03-31|      Elevated|   28.7076|  77.12591|\n",
            "|       160|Shaheed Sthal(Fir...|                     0.0|Red line|  2019-08-03|      Elevated|28.6706109|77.4155822|\n",
            "|       172|            Shahdara|                    12.5|Red line|  2002-12-24|      Elevated|  28.67345|  77.28962|\n",
            "|       175|         Rohini West|                    31.7|Red line|  2004-03-31|      Elevated|  28.71483|  77.11467|\n",
            "|       177|          Shyam park|                     4.5|Red line|  2019-08-03|      Elevated|28.6988072|28.6988072|\n",
            "|       200|Netaji Subash Pla...|                    27.4|Red line|  2018-03-14|      Elevated|  28.69591|  77.15226|\n",
            "+----------+--------------------+------------------------+--------+------------+--------------+----------+----------+\n",
            "only showing top 20 rows\n",
            "\n",
            "None\n"
          ]
        }
      ]
    },
    {
      "cell_type": "code",
      "source": [
        "df_red.filter(df_red['Station Layout']=='Underground').show()"
      ],
      "metadata": {
        "colab": {
          "base_uri": "https://localhost:8080/"
        },
        "id": "60SICY3oZTc7",
        "outputId": "00df0fe2-0760-4381-f1da-7641229eed31"
      },
      "execution_count": 18,
      "outputs": [
        {
          "output_type": "stream",
          "name": "stdout",
          "text": [
            "+----------+------------+------------------------+----+------------+--------------+--------+---------+\n",
            "|Station ID|Station Name|Distance from Start (km)|Line|Opening Date|Station Layout|Latitude|Longitude|\n",
            "+----------+------------+------------------------+----+------------+--------------+--------+---------+\n",
            "+----------+------------+------------------------+----+------------+--------------+--------+---------+\n",
            "\n"
          ]
        }
      ]
    },
    {
      "cell_type": "markdown",
      "source": [
        "There are no underground tunnels along the red line"
      ],
      "metadata": {
        "id": "XrHiD6CNbo3Z"
      }
    },
    {
      "cell_type": "markdown",
      "source": [],
      "metadata": {
        "id": "lHuJSnFTbnSn"
      }
    },
    {
      "cell_type": "code",
      "source": [
        "df.select('Line').distinct().show()"
      ],
      "metadata": {
        "colab": {
          "base_uri": "https://localhost:8080/"
        },
        "id": "FxD24aFVbvDf",
        "outputId": "14d21ce3-210a-4e48-aa72-f569e944b654"
      },
      "execution_count": 22,
      "outputs": [
        {
          "output_type": "stream",
          "name": "stdout",
          "text": [
            "+-----------------+\n",
            "|             Line|\n",
            "+-----------------+\n",
            "|      Rapid Metro|\n",
            "|        Blue line|\n",
            "|Green line branch|\n",
            "|       Green line|\n",
            "| Blue line branch|\n",
            "|      Voilet line|\n",
            "|      Yellow line|\n",
            "|        Gray line|\n",
            "|         Red line|\n",
            "|        Pink line|\n",
            "|     Magenta line|\n",
            "|      Orange line|\n",
            "|        Aqua line|\n",
            "+-----------------+\n",
            "\n"
          ]
        }
      ]
    },
    {
      "cell_type": "markdown",
      "source": [
        "There are 13 different lines of metro in Delhi"
      ],
      "metadata": {
        "id": "ufri_RtfcIHU"
      }
    },
    {
      "cell_type": "code",
      "source": [
        "df_red.select('Station Layout').distinct().show()"
      ],
      "metadata": {
        "colab": {
          "base_uri": "https://localhost:8080/"
        },
        "id": "9MSZJKC0b1Tc",
        "outputId": "994afc89-383c-4960-98a7-77fdf990caaf"
      },
      "execution_count": 23,
      "outputs": [
        {
          "output_type": "stream",
          "name": "stdout",
          "text": [
            "+--------------+\n",
            "|Station Layout|\n",
            "+--------------+\n",
            "|      Elevated|\n",
            "+--------------+\n",
            "\n"
          ]
        }
      ]
    },
    {
      "cell_type": "code",
      "source": [
        "df_red.select('Station Name').distinct().show()"
      ],
      "metadata": {
        "colab": {
          "base_uri": "https://localhost:8080/"
        },
        "id": "A80De1b3ed-r",
        "outputId": "70220af9-6fcb-431f-beea-90e57adc4a6d"
      },
      "execution_count": 30,
      "outputs": [
        {
          "output_type": "stream",
          "name": "stdout",
          "text": [
            "+--------------------+\n",
            "|        Station Name|\n",
            "+--------------------+\n",
            "|         Pul Bangash|\n",
            "|          Shyam park|\n",
            "|       Shastri Nagar|\n",
            "|            Shahdara|\n",
            "|Kashmere Gate [Co...|\n",
            "|Welcome [Conn: Pink]|\n",
            "|            Raj Bagh|\n",
            "|     Mansarovar Park|\n",
            "|Netaji Subash Pla...|\n",
            "|         Rohini East|\n",
            "|        Hindon River|\n",
            "|          Tis Hazari|\n",
            "|      Dilshad Garden|\n",
            "|  Major Mohit Sharma|\n",
            "|        Keshav Puram|\n",
            "|          Pitam Pura|\n",
            "|         Mohan Nagar|\n",
            "|Inderlok [Conn: G...|\n",
            "|             Arthala|\n",
            "|Shaheed Sthal(Fir...|\n",
            "+--------------------+\n",
            "only showing top 20 rows\n",
            "\n"
          ]
        }
      ]
    },
    {
      "cell_type": "markdown",
      "source": [
        "All the stations along the red line are Elevated."
      ],
      "metadata": {
        "id": "lV1Bb4kKd03C"
      }
    },
    {
      "cell_type": "code",
      "source": [
        "df_blue=df.filter(df['Line']=='Blue line')\n",
        "print(df_blue.show())"
      ],
      "metadata": {
        "colab": {
          "base_uri": "https://localhost:8080/"
        },
        "id": "zN6lifHAd4bV",
        "outputId": "4120d365-6947-48d4-bfb0-abac7e14d032"
      },
      "execution_count": 26,
      "outputs": [
        {
          "output_type": "stream",
          "name": "stdout",
          "text": [
            "+----------+--------------------+------------------------+---------+------------+--------------+----------+----------+\n",
            "|Station ID|        Station Name|Distance from Start (km)|     Line|Opening Date|Station Layout|  Latitude| Longitude|\n",
            "+----------+--------------------+------------------------+---------+------------+--------------+----------+----------+\n",
            "|         5|          Dwarka Mor|                    10.2|Blue line|  2005-12-30|      Elevated|  28.61932|  77.03326|\n",
            "|        21|   Noida City Center|                    47.2|Blue line|  2009-12-11|      Elevated|  28.57466|  77.35608|\n",
            "|        23|     Dwarka Sector 9|                     2.7|Blue line|  2006-01-04|      Elevated|  28.57487|  77.06454|\n",
            "|        26|     R K Ashram Marg|                    28.9|Blue line|  2005-12-30|      Elevated|  28.63923|   77.2084|\n",
            "|        27|    Uttam Nagar West|                    12.4|Blue line|  2005-12-30|      Elevated|  28.62481|   77.0653|\n",
            "|        30|         Golf Course|                    45.9|Blue line|  2009-12-11|      Elevated|  28.56714|  77.34598|\n",
            "|        35|Janak Puri West [...|                    14.7|Blue line|  2005-12-30|      Elevated|  28.62943|  77.07767|\n",
            "|        37|Dwarka Sector 21(...|                     0.0|Blue line|  2010-10-30|   Underground|  28.55226|  77.05828|\n",
            "|        38|       Subhash Nagar|                    17.6|Blue line|  2005-12-30|      Elevated|  28.64039|  77.10495|\n",
            "|        45|    Dwarka Sector 14|                     7.6|Blue line|  2006-01-04|      Elevated|  28.60223|  77.02588|\n",
            "|        49|      Rajendra Place|                    25.7|Blue line|  2005-12-30|      Elevated|   28.6425|  77.17815|\n",
            "|        53|         Jhandewalan|                    27.9|Blue line|  2005-12-30|      Elevated|  28.64427|  77.19988|\n",
            "|        60|          Moti Nagar|                    21.8|Blue line|  2005-12-30|      Elevated|  28.65784|  77.14248|\n",
            "|        69|Mayur Vihar Phase...|                    38.3|Blue line|  2009-12-11|      Elevated|  28.60442|  77.29455|\n",
            "|        72|     Noida Sector 59|                    51.5|Blue line|  2019-09-03|      Elevated|28.4808629|77.0848883|\n",
            "|        74|     Dwarka Sector 8|                     1.7|Blue line|  2010-10-30|      Elevated|  28.56583|  77.06706|\n",
            "|        75|     Noida Sector 62|                    52.7|Blue line|  2019-09-03|      Elevated|28.4808629|77.0848883|\n",
            "|        78|Noida Sector 52 [...|                    49.3|Blue line|  2019-09-03|      Elevated|28.4808629|77.0848883|\n",
            "|        84|Rajouri Garden [C...|                    19.6|Blue line|  2005-12-30|      Elevated|  28.64902|   77.1227|\n",
            "|        89|     Noida Sector 61|                    50.5|Blue line|  2019-09-03|      Elevated|28.4808629|77.0848883|\n",
            "+----------+--------------------+------------------------+---------+------------+--------------+----------+----------+\n",
            "only showing top 20 rows\n",
            "\n",
            "None\n"
          ]
        }
      ]
    },
    {
      "cell_type": "code",
      "source": [
        "df_blue.select('Station Layout').distinct().show()"
      ],
      "metadata": {
        "colab": {
          "base_uri": "https://localhost:8080/"
        },
        "id": "BFTQqgHOeGa8",
        "outputId": "0314f4c8-c79f-456e-d3c4-a16bbb8ec4a3"
      },
      "execution_count": 27,
      "outputs": [
        {
          "output_type": "stream",
          "name": "stdout",
          "text": [
            "+--------------+\n",
            "|Station Layout|\n",
            "+--------------+\n",
            "|   Underground|\n",
            "|      At-Grade|\n",
            "|      Elevated|\n",
            "+--------------+\n",
            "\n"
          ]
        }
      ]
    },
    {
      "cell_type": "markdown",
      "source": [
        "There are 3 different layouts along the Blue line."
      ],
      "metadata": {
        "id": "1LJ5Na5ef4mK"
      }
    },
    {
      "cell_type": "code",
      "source": [
        "df=df.withColumnRenamed('Distance from Start (km)','DistanceKM')\n",
        "print(df.show())"
      ],
      "metadata": {
        "colab": {
          "base_uri": "https://localhost:8080/"
        },
        "id": "UogEQdCEeUqJ",
        "outputId": "9fca6132-71d1-4e9a-e9cc-aaf3d6274f6e"
      },
      "execution_count": 33,
      "outputs": [
        {
          "output_type": "stream",
          "name": "stdout",
          "text": [
            "+----------+--------------------+----------+------------+------------+--------------+-----------+-----------+\n",
            "|Station ID|        Station Name|DistanceKM|        Line|Opening Date|Station Layout|   Latitude|  Longitude|\n",
            "+----------+--------------------+----------+------------+------------+--------------+-----------+-----------+\n",
            "|         1|            Jhil Mil|      10.3|    Red line|  2008-04-06|      Elevated|   28.67579|   77.31239|\n",
            "|         2| Welcome [Conn: Red]|      46.8|   Pink line|  2018-10-31|      Elevated|    28.6718|   77.27756|\n",
            "|         3|         DLF Phase 3|      10.0| Rapid Metro|  2013-11-14|      Elevated|    28.4936|    77.0935|\n",
            "|         4|          Okhla NSIC|      23.8|Magenta line|  2017-12-25|      Elevated| 28.5544828| 77.2648487|\n",
            "|         5|          Dwarka Mor|      10.2|   Blue line|  2005-12-30|      Elevated|   28.61932|   77.03326|\n",
            "|         6|Dilli Haat INA [C...|      24.9|   Pink line|  2018-06-08|   Underground|28.57440755|77.21024148|\n",
            "|         7|    Noida Sector 143|      11.5|   Aqua line|  2019-01-25|      Elevated|28.50266325|77.42625566|\n",
            "|         8|           Moolchand|      15.1| Voilet line|  2010-03-10|      Elevated|   28.56417|   77.23423|\n",
            "|         9|        Chawri Bazar|      15.3| Yellow line|  2005-03-07|   Underground|   28.64931|   77.22637|\n",
            "|        10|           Maya Puri|      12.8|   Pink line|  2018-03-14|      Elevated| 28.6371795| 77.1297333|\n",
            "|        11|Central Secretari...|      19.4| Yellow line|  2005-03-07|   Underground|   28.61474|   77.21191|\n",
            "|        12|    Noida Sector 146|      15.8|   Aqua line|  2019-01-25|      Elevated| 28.4082289|  76.963024|\n",
            "|        13|        Tikri Border|      20.2|  Green line|  2018-06-24|      Elevated| 28.6880254| 76.9640828|\n",
            "|        14|            Jangpura|      12.9| Voilet line|  2010-03-10|   Underground|    28.5843|   77.23766|\n",
            "|        15|  Major Mohit Sharma|       5.7|    Red line|  2019-08-03|      Elevated| 28.6776112| 77.3581426|\n",
            "|        16|         Majlis Park|       0.0|   Pink line|  2018-03-14|      Elevated| 28.7244312|  77.181964|\n",
            "|        17|  Bhikaji Cama Place|      22.6|   Pink line|  2018-06-08|   Underground|28.56790025|77.18701648|\n",
            "|        18|Mundka Industrial...|      15.0|  Green line|  2018-06-24|      Elevated| 28.6834491| 77.0171333|\n",
            "|        19|    Belvedere Towers|       8.0| Rapid Metro|  2013-11-14|      Elevated|    28.4936|    77.0935|\n",
            "|        20|        Adarsh Nagar|       4.7| Yellow line|  2009-04-02|      Elevated|   28.71642|   77.17046|\n",
            "+----------+--------------------+----------+------------+------------+--------------+-----------+-----------+\n",
            "only showing top 20 rows\n",
            "\n",
            "None\n"
          ]
        }
      ]
    },
    {
      "cell_type": "code",
      "source": [
        "from pyspark.sql.functions import col\n",
        "df=df.withColumn('DistanceKM',col('DistanceKM')*0.621371)\n",
        "print(df.show())"
      ],
      "metadata": {
        "colab": {
          "base_uri": "https://localhost:8080/"
        },
        "id": "Un2n3IIle-i0",
        "outputId": "1fd556d9-6e42-4c5e-c6eb-6530e1c860b4"
      },
      "execution_count": 34,
      "outputs": [
        {
          "output_type": "stream",
          "name": "stdout",
          "text": [
            "+----------+--------------------+------------------+------------+------------+--------------+-----------+-----------+\n",
            "|Station ID|        Station Name|        DistanceKM|        Line|Opening Date|Station Layout|   Latitude|  Longitude|\n",
            "+----------+--------------------+------------------+------------+------------+--------------+-----------+-----------+\n",
            "|         1|            Jhil Mil|         6.4001213|    Red line|  2008-04-06|      Elevated|   28.67579|   77.31239|\n",
            "|         2| Welcome [Conn: Red]|        29.0801628|   Pink line|  2018-10-31|      Elevated|    28.6718|   77.27756|\n",
            "|         3|         DLF Phase 3|           6.21371| Rapid Metro|  2013-11-14|      Elevated|    28.4936|    77.0935|\n",
            "|         4|          Okhla NSIC|        14.7886298|Magenta line|  2017-12-25|      Elevated| 28.5544828| 77.2648487|\n",
            "|         5|          Dwarka Mor| 6.337984199999999|   Blue line|  2005-12-30|      Elevated|   28.61932|   77.03326|\n",
            "|         6|Dilli Haat INA [C...|        15.4721379|   Pink line|  2018-06-08|   Underground|28.57440755|77.21024148|\n",
            "|         7|    Noida Sector 143|         7.1457665|   Aqua line|  2019-01-25|      Elevated|28.50266325|77.42625566|\n",
            "|         8|           Moolchand|         9.3827021| Voilet line|  2010-03-10|      Elevated|   28.56417|   77.23423|\n",
            "|         9|        Chawri Bazar|         9.5069763| Yellow line|  2005-03-07|   Underground|   28.64931|   77.22637|\n",
            "|        10|           Maya Puri|         7.9535488|   Pink line|  2018-03-14|      Elevated| 28.6371795| 77.1297333|\n",
            "|        11|Central Secretari...|12.054597399999999| Yellow line|  2005-03-07|   Underground|   28.61474|   77.21191|\n",
            "|        12|    Noida Sector 146|         9.8176618|   Aqua line|  2019-01-25|      Elevated| 28.4082289|  76.963024|\n",
            "|        13|        Tikri Border|        12.5516942|  Green line|  2018-06-24|      Elevated| 28.6880254| 76.9640828|\n",
            "|        14|            Jangpura| 8.015685900000001| Voilet line|  2010-03-10|   Underground|    28.5843|   77.23766|\n",
            "|        15|  Major Mohit Sharma|         3.5418147|    Red line|  2019-08-03|      Elevated| 28.6776112| 77.3581426|\n",
            "|        16|         Majlis Park|               0.0|   Pink line|  2018-03-14|      Elevated| 28.7244312|  77.181964|\n",
            "|        17|  Bhikaji Cama Place|        14.0429846|   Pink line|  2018-06-08|   Underground|28.56790025|77.18701648|\n",
            "|        18|Mundka Industrial...|          9.320565|  Green line|  2018-06-24|      Elevated| 28.6834491| 77.0171333|\n",
            "|        19|    Belvedere Towers|          4.970968| Rapid Metro|  2013-11-14|      Elevated|    28.4936|    77.0935|\n",
            "|        20|        Adarsh Nagar|2.9204437000000003| Yellow line|  2009-04-02|      Elevated|   28.71642|   77.17046|\n",
            "+----------+--------------------+------------------+------------+------------+--------------+-----------+-----------+\n",
            "only showing top 20 rows\n",
            "\n",
            "None\n"
          ]
        }
      ]
    },
    {
      "cell_type": "code",
      "source": [
        "df=df.withColumnRenamed('DistanceMiles','Distance Miles')\n",
        "print(df.show())"
      ],
      "metadata": {
        "colab": {
          "base_uri": "https://localhost:8080/"
        },
        "id": "lIVM3dGSfdmo",
        "outputId": "48767afa-2306-40f0-d427-1ed3cd4ea979"
      },
      "execution_count": 37,
      "outputs": [
        {
          "output_type": "stream",
          "name": "stdout",
          "text": [
            "+----------+--------------------+------------------+------------+------------+--------------+-----------+-----------+\n",
            "|Station ID|        Station Name|    Distance Miles|        Line|Opening Date|Station Layout|   Latitude|  Longitude|\n",
            "+----------+--------------------+------------------+------------+------------+--------------+-----------+-----------+\n",
            "|         1|            Jhil Mil|         6.4001213|    Red line|  2008-04-06|      Elevated|   28.67579|   77.31239|\n",
            "|         2| Welcome [Conn: Red]|        29.0801628|   Pink line|  2018-10-31|      Elevated|    28.6718|   77.27756|\n",
            "|         3|         DLF Phase 3|           6.21371| Rapid Metro|  2013-11-14|      Elevated|    28.4936|    77.0935|\n",
            "|         4|          Okhla NSIC|        14.7886298|Magenta line|  2017-12-25|      Elevated| 28.5544828| 77.2648487|\n",
            "|         5|          Dwarka Mor| 6.337984199999999|   Blue line|  2005-12-30|      Elevated|   28.61932|   77.03326|\n",
            "|         6|Dilli Haat INA [C...|        15.4721379|   Pink line|  2018-06-08|   Underground|28.57440755|77.21024148|\n",
            "|         7|    Noida Sector 143|         7.1457665|   Aqua line|  2019-01-25|      Elevated|28.50266325|77.42625566|\n",
            "|         8|           Moolchand|         9.3827021| Voilet line|  2010-03-10|      Elevated|   28.56417|   77.23423|\n",
            "|         9|        Chawri Bazar|         9.5069763| Yellow line|  2005-03-07|   Underground|   28.64931|   77.22637|\n",
            "|        10|           Maya Puri|         7.9535488|   Pink line|  2018-03-14|      Elevated| 28.6371795| 77.1297333|\n",
            "|        11|Central Secretari...|12.054597399999999| Yellow line|  2005-03-07|   Underground|   28.61474|   77.21191|\n",
            "|        12|    Noida Sector 146|         9.8176618|   Aqua line|  2019-01-25|      Elevated| 28.4082289|  76.963024|\n",
            "|        13|        Tikri Border|        12.5516942|  Green line|  2018-06-24|      Elevated| 28.6880254| 76.9640828|\n",
            "|        14|            Jangpura| 8.015685900000001| Voilet line|  2010-03-10|   Underground|    28.5843|   77.23766|\n",
            "|        15|  Major Mohit Sharma|         3.5418147|    Red line|  2019-08-03|      Elevated| 28.6776112| 77.3581426|\n",
            "|        16|         Majlis Park|               0.0|   Pink line|  2018-03-14|      Elevated| 28.7244312|  77.181964|\n",
            "|        17|  Bhikaji Cama Place|        14.0429846|   Pink line|  2018-06-08|   Underground|28.56790025|77.18701648|\n",
            "|        18|Mundka Industrial...|          9.320565|  Green line|  2018-06-24|      Elevated| 28.6834491| 77.0171333|\n",
            "|        19|    Belvedere Towers|          4.970968| Rapid Metro|  2013-11-14|      Elevated|    28.4936|    77.0935|\n",
            "|        20|        Adarsh Nagar|2.9204437000000003| Yellow line|  2009-04-02|      Elevated|   28.71642|   77.17046|\n",
            "+----------+--------------------+------------------+------------+------------+--------------+-----------+-----------+\n",
            "only showing top 20 rows\n",
            "\n",
            "None\n"
          ]
        }
      ]
    },
    {
      "cell_type": "markdown",
      "source": [
        "Converted distance from start point from Kilometres to Miles and renamed the column as Distance Miles."
      ],
      "metadata": {
        "id": "7IeSwWZ8fppH"
      }
    },
    {
      "cell_type": "code",
      "source": [
        "from pyspark.sql import functions as F\n",
        "df.groupBy('Line').agg(F.avg('Distance Miles').alias('Average Distance'),F.max('Distance Miles').alias('Maximum Distance')).show()"
      ],
      "metadata": {
        "colab": {
          "base_uri": "https://localhost:8080/"
        },
        "id": "a8SjGThof0wW",
        "outputId": "710bf632-bb20-48b8-c9b5-efe5fcdcb634"
      },
      "execution_count": 39,
      "outputs": [
        {
          "output_type": "stream",
          "name": "stdout",
          "text": [
            "+-----------------+------------------+------------------+\n",
            "|             Line|  Average Distance|  Maximum Distance|\n",
            "+-----------------+------------------+------------------+\n",
            "|      Rapid Metro|3.5474635272727273|           6.21371|\n",
            "|        Blue line| 16.24568138979592|        32.7462517|\n",
            "|Green line branch|0.6627957333333333|         1.3048791|\n",
            "|       Green line| 7.071793761904762|        15.4100008|\n",
            "| Blue line branch|          2.485484|         5.0331051|\n",
            "|      Voilet line|12.811207970588232|        27.0296385|\n",
            "|      Yellow line|13.335965164864868|28.396654700000003|\n",
            "|        Gray line|1.1184678000000001|         2.4233469|\n",
            "|         Red line|10.289046696551724|        20.3188317|\n",
            "|        Pink line| 17.87913293157894|        32.6841146|\n",
            "|     Magenta line|10.970926375999998|        20.5673801|\n",
            "|      Orange line|6.5658202333333335|12.924516800000001|\n",
            "|        Aqua line| 8.296782304761905|16.839154100000002|\n",
            "+-----------------+------------------+------------------+\n",
            "\n"
          ]
        }
      ]
    },
    {
      "cell_type": "code",
      "source": [
        "df.createOrReplaceTempView(\"metro\")\n",
        "spark.sql(\"SELECT Line, COUNT(*) as StationCount FROM metro GROUP BY Line\").show()"
      ],
      "metadata": {
        "colab": {
          "base_uri": "https://localhost:8080/"
        },
        "id": "K5jquu4Vh0mI",
        "outputId": "64aaa379-aec8-4961-e4b6-5b189f619865"
      },
      "execution_count": 40,
      "outputs": [
        {
          "output_type": "stream",
          "name": "stdout",
          "text": [
            "+-----------------+------------+\n",
            "|             Line|StationCount|\n",
            "+-----------------+------------+\n",
            "|      Rapid Metro|          11|\n",
            "|        Blue line|          49|\n",
            "|Green line branch|           3|\n",
            "|       Green line|          21|\n",
            "| Blue line branch|           8|\n",
            "|      Voilet line|          34|\n",
            "|      Yellow line|          37|\n",
            "|        Gray line|           3|\n",
            "|         Red line|          29|\n",
            "|        Pink line|          38|\n",
            "|     Magenta line|          25|\n",
            "|      Orange line|           6|\n",
            "|        Aqua line|          21|\n",
            "+-----------------+------------+\n",
            "\n"
          ]
        }
      ]
    },
    {
      "cell_type": "code",
      "source": [
        "stations_per_line=df.groupBy('Line').count()"
      ],
      "metadata": {
        "id": "EJuYTusPj96T"
      },
      "execution_count": 43,
      "outputs": []
    },
    {
      "cell_type": "code",
      "source": [
        "stations_per_line_pd=stations_per_line.toPandas()"
      ],
      "metadata": {
        "id": "6K8p-RJdlFgJ"
      },
      "execution_count": 44,
      "outputs": []
    },
    {
      "cell_type": "code",
      "source": [
        "import matplotlib.pyplot as plt\n",
        "plt.figure(figsize=(10,6))\n",
        "plt.plot(stations_per_line_pd['Line'],stations_per_line_pd['count'])\n",
        "plt.title('Stations per Line')\n",
        "plt.xlabel('Stations')\n",
        "plt.ylabel('Number of stations')\n",
        "plt.xticks(rotation=45)\n",
        "plt.grid(True)\n",
        "plt.show()"
      ],
      "metadata": {
        "colab": {
          "base_uri": "https://localhost:8080/",
          "height": 648
        },
        "id": "dDQdm6akla4n",
        "outputId": "62b7a6bb-0f9b-44b2-9da1-9ade21cc897c"
      },
      "execution_count": 50,
      "outputs": [
        {
          "output_type": "display_data",
          "data": {
            "text/plain": [
              "<Figure size 1000x600 with 1 Axes>"
            ],
            "image/png": "[encoded data removed]"
          },
          "metadata": {}
        }
      ]
    },
    {
      "cell_type": "code",
      "source": [
        "stations_layouts=df.groupBy('Station Layout').count()"
      ],
      "metadata": {
        "id": "vcCOFPm1nBMg"
      },
      "execution_count": 52,
      "outputs": []
    },
    {
      "cell_type": "code",
      "source": [
        "stations_layouts_pd=stations_layouts.toPandas()"
      ],
      "metadata": {
        "id": "JLSlAwefpR8E"
      },
      "execution_count": 55,
      "outputs": []
    },
    {
      "cell_type": "code",
      "source": [
        "plt.figure(figsize=(10,6))\n",
        "plt.bar(staions_layouts_pd['Station Layout'],stations_layouts_pd['count'])\n",
        "plt.title('Stations according to Layout')\n",
        "plt.xlabel('Stations Layout')\n",
        "plt.ylabel('Number of stations')\n",
        "plt.show()"
      ],
      "metadata": {
        "colab": {
          "base_uri": "https://localhost:8080/",
          "height": 564
        },
        "id": "wAjrHJr7ppev",
        "outputId": "6a175f04-9d60-439a-ad14-edce6820a8b7"
      },
      "execution_count": 57,
      "outputs": [
        {
          "output_type": "display_data",
          "data": {
            "text/plain": [
              "<Figure size 1000x600 with 1 Axes>"
            ],
            "image/png": "[encoded data removed]"
          },
          "metadata": {}
        }
      ]
    },
    {
      "cell_type": "markdown",
      "source": [
        "Most number of metro stations are located on elevated layouts followed by underground station layouts with least number of stations located at the ground level."
      ],
      "metadata": {
        "id": "hLtIQOxAip52"
      }
    },
    {
      "cell_type": "code",
      "source": [
        "stations_built_per_year=df.groupBy('Opening Date').count()"
      ],
      "metadata": {
        "id": "uCDHBb99qK8U"
      },
      "execution_count": 148,
      "outputs": []
    },
    {
      "cell_type": "code",
      "source": [
        "stations_built_per_year_pd=stations_built_per_year.toPandas()"
      ],
      "metadata": {
        "id": "uK1UYGoZywtF"
      },
      "execution_count": 149,
      "outputs": []
    },
    {
      "cell_type": "code",
      "source": [
        "stations_built_per_year_pd.head()"
      ],
      "metadata": {
        "colab": {
          "base_uri": "https://localhost:8080/",
          "height": 206
        },
        "id": "G7PGw3ne2ogT",
        "outputId": "eb05e093-b7ad-437e-e259-d0aa5fde0e76"
      },
      "execution_count": 150,
      "outputs": [
        {
          "output_type": "execute_result",
          "data": {
            "text/plain": [
              "  Opening Date  count\n",
              "0   2002-12-25      4\n",
              "1   2017-12-25      9\n",
              "2   2009-12-11     10\n",
              "3   2009-04-02      5\n",
              "4   2017-04-25      2"
            ],
            "text/html": [
              "\n",
              "  <div id=\"df-ae44981e-caa6-4dc7-8e84-9b03b2d66e5d\" class=\"colab-df-container\">\n",
              "    <div>\n",
              "<style scoped>\n",
              "    .dataframe tbody tr th:only-of-type {\n",
              "        vertical-align: middle;\n",
              "    }\n",
              "\n",
              "    .dataframe tbody tr th {\n",
              "        vertical-align: top;\n",
              "    }\n",
              "\n",
              "    .dataframe thead th {\n",
              "        text-align: right;\n",
              "    }\n",
              "</style>\n",
              "<table border=\"1\" class=\"dataframe\">\n",
              "  <thead>\n",
              "    <tr style=\"text-align: right;\">\n",
              "      <th></th>\n",
              "      <th>Opening Date</th>\n",
              "      <th>count</th>\n",
              "    </tr>\n",
              "  </thead>\n",
              "  <tbody>\n",
              "    <tr>\n",
              "      <th>0</th>\n",
              "      <td>2002-12-25</td>\n",
              "      <td>4</td>\n",
              "    </tr>\n",
              "    <tr>\n",
              "      <th>1</th>\n",
              "      <td>2017-12-25</td>\n",
              "      <td>9</td>\n",
              "    </tr>\n",
              "    <tr>\n",
              "      <th>2</th>\n",
              "      <td>2009-12-11</td>\n",
              "      <td>10</td>\n",
              "    </tr>\n",
              "    <tr>\n",
              "      <th>3</th>\n",
              "      <td>2009-04-02</td>\n",
              "      <td>5</td>\n",
              "    </tr>\n",
              "    <tr>\n",
              "      <th>4</th>\n",
              "      <td>2017-04-25</td>\n",
              "      <td>2</td>\n",
              "    </tr>\n",
              "  </tbody>\n",
              "</table>\n",
              "</div>\n",
              "    <div class=\"colab-df-buttons\">\n",
              "\n",
              "  <div class=\"colab-df-container\">\n",
              "    <button class=\"colab-df-convert\" onclick=\"convertToInteractive('df-ae44981e-caa6-4dc7-8e84-9b03b2d66e5d')\"\n",
              "            title=\"Convert this dataframe to an interactive table.\"\n",
              "            style=\"display:none;\">\n",
              "\n",
              "  <svg xmlns=\"http://www.w3.org/2000/svg\" height=\"24px\" viewBox=\"0 -960 960 960\">\n",
              "    <path d=\"M120-120v-720h720v720H120Zm60-500h600v-160H180v160Zm220 220h160v-160H400v160Zm0 220h160v-160H400v160ZM180-400h160v-160H180v160Zm440 0h160v-160H620v160ZM180-180h160v-160H180v160Zm440 0h160v-160H620v160Z\"/>\n",
              "  </svg>\n",
              "    </button>\n",
              "\n",
              "  <style>\n",
              "    .colab-df-container {\n",
              "      display:flex;\n",
              "      gap: 12px;\n",
              "    }\n",
              "\n",
              "    .colab-df-convert {\n",
              "      background-color: #E8F0FE;\n",
              "      border: none;\n",
              "      border-radius: 50%;\n",
              "      cursor: pointer;\n",
              "      display: none;\n",
              "      fill: #1967D2;\n",
              "      height: 32px;\n",
              "      padding: 0 0 0 0;\n",
              "      width: 32px;\n",
              "    }\n",
              "\n",
              "    .colab-df-convert:hover {\n",
              "      background-color: #E2EBFA;\n",
              "      box-shadow: 0px 1px 2px rgba(60, 64, 67, 0.3), 0px 1px 3px 1px rgba(60, 64, 67, 0.15);\n",
              "      fill: #174EA6;\n",
              "    }\n",
              "\n",
              "    .colab-df-buttons div {\n",
              "      margin-bottom: 4px;\n",
              "    }\n",
              "\n",
              "    [theme=dark] .colab-df-convert {\n",
              "      background-color: #3B4455;\n",
              "      fill: #D2E3FC;\n",
              "    }\n",
              "\n",
              "    [theme=dark] .colab-df-convert:hover {\n",
              "      background-color: #434B5C;\n",
              "      box-shadow: 0px 1px 3px 1px rgba(0, 0, 0, 0.15);\n",
              "      filter: drop-shadow(0px 1px 2px rgba(0, 0, 0, 0.3));\n",
              "      fill: #FFFFFF;\n",
              "    }\n",
              "  </style>\n",
              "\n",
              "    <script>\n",
              "      const buttonEl =\n",
              "        document.querySelector('#df-ae44981e-caa6-4dc7-8e84-9b03b2d66e5d button.colab-df-convert');\n",
              "      buttonEl.style.display =\n",
              "        google.colab.kernel.accessAllowed ? 'block' : 'none';\n",
              "\n",
              "      async function convertToInteractive(key) {\n",
              "        const element = document.querySelector('#df-ae44981e-caa6-4dc7-8e84-9b03b2d66e5d');\n",
              "        const dataTable =\n",
              "          await google.colab.kernel.invokeFunction('convertToInteractive',\n",
              "                                                    [key], {});\n",
              "        if (!dataTable) return;\n",
              "\n",
              "        const docLinkHtml = 'Like what you see? Visit the ' +\n",
              "          '<a target=\"_blank\" href=https://colab.research.google.com/notebooks/data_table.ipynb>data table notebook</a>'\n",
              "          + ' to learn more about interactive tables.';\n",
              "        element.innerHTML = '';\n",
              "        dataTable['output_type'] = 'display_data';\n",
              "        await google.colab.output.renderOutput(dataTable, element);\n",
              "        const docLink = document.createElement('div');\n",
              "        docLink.innerHTML = docLinkHtml;\n",
              "        element.appendChild(docLink);\n",
              "      }\n",
              "    </script>\n",
              "  </div>\n",
              "\n",
              "\n",
              "<div id=\"df-59941b6a-c4e4-4990-88ca-a508e602375b\">\n",
              "  <button class=\"colab-df-quickchart\" onclick=\"quickchart('df-59941b6a-c4e4-4990-88ca-a508e602375b')\"\n",
              "            title=\"Suggest charts\"\n",
              "            style=\"display:none;\">\n",
              "\n",
              "<svg xmlns=\"http://www.w3.org/2000/svg\" height=\"24px\"viewBox=\"0 0 24 24\"\n",
              "     width=\"24px\">\n",
              "    <g>\n",
              "        <path d=\"M19 3H5c-1.1 0-2 .9-2 2v14c0 1.1.9 2 2 2h14c1.1 0 2-.9 2-2V5c0-1.1-.9-2-2-2zM9 17H7v-7h2v7zm4 0h-2V7h2v10zm4 0h-2v-4h2v4z\"/>\n",
              "    </g>\n",
              "</svg>\n",
              "  </button>\n",
              "\n",
              "<style>\n",
              "  .colab-df-quickchart {\n",
              "      --bg-color: #E8F0FE;\n",
              "      --fill-color: #1967D2;\n",
              "      --hover-bg-color: #E2EBFA;\n",
              "      --hover-fill-color: #174EA6;\n",
              "      --disabled-fill-color: #AAA;\n",
              "      --disabled-bg-color: #DDD;\n",
              "  }\n",
              "\n",
              "  [theme=dark] .colab-df-quickchart {\n",
              "      --bg-color: #3B4455;\n",
              "      --fill-color: #D2E3FC;\n",
              "      --hover-bg-color: #434B5C;\n",
              "      --hover-fill-color: #FFFFFF;\n",
              "      --disabled-bg-color: #3B4455;\n",
              "      --disabled-fill-color: #666;\n",
              "  }\n",
              "\n",
              "  .colab-df-quickchart {\n",
              "    background-color: var(--bg-color);\n",
              "    border: none;\n",
              "    border-radius: 50%;\n",
              "    cursor: pointer;\n",
              "    display: none;\n",
              "    fill: var(--fill-color);\n",
              "    height: 32px;\n",
              "    padding: 0;\n",
              "    width: 32px;\n",
              "  }\n",
              "\n",
              "  .colab-df-quickchart:hover {\n",
              "    background-color: var(--hover-bg-color);\n",
              "    box-shadow: 0 1px 2px rgba(60, 64, 67, 0.3), 0 1px 3px 1px rgba(60, 64, 67, 0.15);\n",
              "    fill: var(--button-hover-fill-color);\n",
              "  }\n",
              "\n",
              "  .colab-df-quickchart-complete:disabled,\n",
              "  .colab-df-quickchart-complete:disabled:hover {\n",
              "    background-color: var(--disabled-bg-color);\n",
              "    fill: var(--disabled-fill-color);\n",
              "    box-shadow: none;\n",
              "  }\n",
              "\n",
              "  .colab-df-spinner {\n",
              "    border: 2px solid var(--fill-color);\n",
              "    border-color: transparent;\n",
              "    border-bottom-color: var(--fill-color);\n",
              "    animation:\n",
              "      spin 1s steps(1) infinite;\n",
              "  }\n",
              "\n",
              "  @keyframes spin {\n",
              "    0% {\n",
              "      border-color: transparent;\n",
              "      border-bottom-color: var(--fill-color);\n",
              "      border-left-color: var(--fill-color);\n",
              "    }\n",
              "    20% {\n",
              "      border-color: transparent;\n",
              "      border-left-color: var(--fill-color);\n",
              "      border-top-color: var(--fill-color);\n",
              "    }\n",
              "    30% {\n",
              "      border-color: transparent;\n",
              "      border-left-color: var(--fill-color);\n",
              "      border-top-color: var(--fill-color);\n",
              "      border-right-color: var(--fill-color);\n",
              "    }\n",
              "    40% {\n",
              "      border-color: transparent;\n",
              "      border-right-color: var(--fill-color);\n",
              "      border-top-color: var(--fill-color);\n",
              "    }\n",
              "    60% {\n",
              "      border-color: transparent;\n",
              "      border-right-color: var(--fill-color);\n",
              "    }\n",
              "    80% {\n",
              "      border-color: transparent;\n",
              "      border-right-color: var(--fill-color);\n",
              "      border-bottom-color: var(--fill-color);\n",
              "    }\n",
              "    90% {\n",
              "      border-color: transparent;\n",
              "      border-bottom-color: var(--fill-color);\n",
              "    }\n",
              "  }\n",
              "</style>\n",
              "\n",
              "  <script>\n",
              "    async function quickchart(key) {\n",
              "      const quickchartButtonEl =\n",
              "        document.querySelector('#' + key + ' button');\n",
              "      quickchartButtonEl.disabled = true;  // To prevent multiple clicks.\n",
              "      quickchartButtonEl.classList.add('colab-df-spinner');\n",
              "      try {\n",
              "        const charts = await google.colab.kernel.invokeFunction(\n",
              "            'suggestCharts', [key], {});\n",
              "      } catch (error) {\n",
              "        console.error('Error during call to suggestCharts:', error);\n",
              "      }\n",
              "      quickchartButtonEl.classList.remove('colab-df-spinner');\n",
              "      quickchartButtonEl.classList.add('colab-df-quickchart-complete');\n",
              "    }\n",
              "    (() => {\n",
              "      let quickchartButtonEl =\n",
              "        document.querySelector('#df-59941b6a-c4e4-4990-88ca-a508e602375b button');\n",
              "      quickchartButtonEl.style.display =\n",
              "        google.colab.kernel.accessAllowed ? 'block' : 'none';\n",
              "    })();\n",
              "  </script>\n",
              "</div>\n",
              "\n",
              "    </div>\n",
              "  </div>\n"
            ],
            "application/vnd.google.colaboratory.intrinsic+json": {
              "type": "dataframe",
              "variable_name": "stations_built_per_year_pd",
              "summary": "{\n  \"name\": \"stations_built_per_year_pd\",\n  \"rows\": 48,\n  \"fields\": [\n    {\n      \"column\": \"Opening Date\",\n      \"properties\": {\n        \"dtype\": \"date\",\n        \"min\": \"2002-12-24\",\n        \"max\": \"2019-09-03\",\n        \"num_unique_values\": 48,\n        \"samples\": [\n          \"2010-03-10\",\n          \"2010-06-21\",\n          \"2004-12-20\"\n        ],\n        \"semantic_type\": \"\",\n        \"description\": \"\"\n      }\n    },\n    {\n      \"column\": \"count\",\n      \"properties\": {\n        \"dtype\": \"number\",\n        \"std\": 5,\n        \"min\": 1,\n        \"max\": 22,\n        \"num_unique_values\": 15,\n        \"samples\": [\n          16,\n          13,\n          4\n        ],\n        \"semantic_type\": \"\",\n        \"description\": \"\"\n      }\n    }\n  ]\n}"
            }
          },
          "metadata": {},
          "execution_count": 150
        }
      ]
    },
    {
      "cell_type": "code",
      "source": [
        "stations_built_per_year_pd['Opening Date'].dtype"
      ],
      "metadata": {
        "colab": {
          "base_uri": "https://localhost:8080/"
        },
        "id": "wu92k4zn2uyX",
        "outputId": "83ac1a73-cf79-4f92-93c8-197ed541dac9"
      },
      "execution_count": 151,
      "outputs": [
        {
          "output_type": "execute_result",
          "data": {
            "text/plain": [
              "dtype('O')"
            ]
          },
          "metadata": {},
          "execution_count": 151
        }
      ]
    },
    {
      "cell_type": "code",
      "source": [
        "stations_built_per_year_pd.head()"
      ],
      "metadata": {
        "colab": {
          "base_uri": "https://localhost:8080/",
          "height": 206
        },
        "id": "BiBWaQy24yhW",
        "outputId": "d6ff0376-ff4a-4962-9f0b-612c9bf7eabc"
      },
      "execution_count": 152,
      "outputs": [
        {
          "output_type": "execute_result",
          "data": {
            "text/plain": [
              "  Opening Date  count\n",
              "0   2002-12-25      4\n",
              "1   2017-12-25      9\n",
              "2   2009-12-11     10\n",
              "3   2009-04-02      5\n",
              "4   2017-04-25      2"
            ],
            "text/html": [
              "\n",
              "  <div id=\"df-82090d5b-fe68-4595-b932-0f557be75295\" class=\"colab-df-container\">\n",
              "    <div>\n",
              "<style scoped>\n",
              "    .dataframe tbody tr th:only-of-type {\n",
              "        vertical-align: middle;\n",
              "    }\n",
              "\n",
              "    .dataframe tbody tr th {\n",
              "        vertical-align: top;\n",
              "    }\n",
              "\n",
              "    .dataframe thead th {\n",
              "        text-align: right;\n",
              "    }\n",
              "</style>\n",
              "<table border=\"1\" class=\"dataframe\">\n",
              "  <thead>\n",
              "    <tr style=\"text-align: right;\">\n",
              "      <th></th>\n",
              "      <th>Opening Date</th>\n",
              "      <th>count</th>\n",
              "    </tr>\n",
              "  </thead>\n",
              "  <tbody>\n",
              "    <tr>\n",
              "      <th>0</th>\n",
              "      <td>2002-12-25</td>\n",
              "      <td>4</td>\n",
              "    </tr>\n",
              "    <tr>\n",
              "      <th>1</th>\n",
              "      <td>2017-12-25</td>\n",
              "      <td>9</td>\n",
              "    </tr>\n",
              "    <tr>\n",
              "      <th>2</th>\n",
              "      <td>2009-12-11</td>\n",
              "      <td>10</td>\n",
              "    </tr>\n",
              "    <tr>\n",
              "      <th>3</th>\n",
              "      <td>2009-04-02</td>\n",
              "      <td>5</td>\n",
              "    </tr>\n",
              "    <tr>\n",
              "      <th>4</th>\n",
              "      <td>2017-04-25</td>\n",
              "      <td>2</td>\n",
              "    </tr>\n",
              "  </tbody>\n",
              "</table>\n",
              "</div>\n",
              "    <div class=\"colab-df-buttons\">\n",
              "\n",
              "  <div class=\"colab-df-container\">\n",
              "    <button class=\"colab-df-convert\" onclick=\"convertToInteractive('df-82090d5b-fe68-4595-b932-0f557be75295')\"\n",
              "            title=\"Convert this dataframe to an interactive table.\"\n",
              "            style=\"display:none;\">\n",
              "\n",
              "  <svg xmlns=\"http://www.w3.org/2000/svg\" height=\"24px\" viewBox=\"0 -960 960 960\">\n",
              "    <path d=\"M120-120v-720h720v720H120Zm60-500h600v-160H180v160Zm220 220h160v-160H400v160Zm0 220h160v-160H400v160ZM180-400h160v-160H180v160Zm440 0h160v-160H620v160ZM180-180h160v-160H180v160Zm440 0h160v-160H620v160Z\"/>\n",
              "  </svg>\n",
              "    </button>\n",
              "\n",
              "  <style>\n",
              "    .colab-df-container {\n",
              "      display:flex;\n",
              "      gap: 12px;\n",
              "    }\n",
              "\n",
              "    .colab-df-convert {\n",
              "      background-color: #E8F0FE;\n",
              "      border: none;\n",
              "      border-radius: 50%;\n",
              "      cursor: pointer;\n",
              "      display: none;\n",
              "      fill: #1967D2;\n",
              "      height: 32px;\n",
              "      padding: 0 0 0 0;\n",
              "      width: 32px;\n",
              "    }\n",
              "\n",
              "    .colab-df-convert:hover {\n",
              "      background-color: #E2EBFA;\n",
              "      box-shadow: 0px 1px 2px rgba(60, 64, 67, 0.3), 0px 1px 3px 1px rgba(60, 64, 67, 0.15);\n",
              "      fill: #174EA6;\n",
              "    }\n",
              "\n",
              "    .colab-df-buttons div {\n",
              "      margin-bottom: 4px;\n",
              "    }\n",
              "\n",
              "    [theme=dark] .colab-df-convert {\n",
              "      background-color: #3B4455;\n",
              "      fill: #D2E3FC;\n",
              "    }\n",
              "\n",
              "    [theme=dark] .colab-df-convert:hover {\n",
              "      background-color: #434B5C;\n",
              "      box-shadow: 0px 1px 3px 1px rgba(0, 0, 0, 0.15);\n",
              "      filter: drop-shadow(0px 1px 2px rgba(0, 0, 0, 0.3));\n",
              "      fill: #FFFFFF;\n",
              "    }\n",
              "  </style>\n",
              "\n",
              "    <script>\n",
              "      const buttonEl =\n",
              "        document.querySelector('#df-82090d5b-fe68-4595-b932-0f557be75295 button.colab-df-convert');\n",
              "      buttonEl.style.display =\n",
              "        google.colab.kernel.accessAllowed ? 'block' : 'none';\n",
              "\n",
              "      async function convertToInteractive(key) {\n",
              "        const element = document.querySelector('#df-82090d5b-fe68-4595-b932-0f557be75295');\n",
              "        const dataTable =\n",
              "          await google.colab.kernel.invokeFunction('convertToInteractive',\n",
              "                                                    [key], {});\n",
              "        if (!dataTable) return;\n",
              "\n",
              "        const docLinkHtml = 'Like what you see? Visit the ' +\n",
              "          '<a target=\"_blank\" href=https://colab.research.google.com/notebooks/data_table.ipynb>data table notebook</a>'\n",
              "          + ' to learn more about interactive tables.';\n",
              "        element.innerHTML = '';\n",
              "        dataTable['output_type'] = 'display_data';\n",
              "        await google.colab.output.renderOutput(dataTable, element);\n",
              "        const docLink = document.createElement('div');\n",
              "        docLink.innerHTML = docLinkHtml;\n",
              "        element.appendChild(docLink);\n",
              "      }\n",
              "    </script>\n",
              "  </div>\n",
              "\n",
              "\n",
              "<div id=\"df-9ab1e4c9-41e9-4755-a5eb-42a100712a38\">\n",
              "  <button class=\"colab-df-quickchart\" onclick=\"quickchart('df-9ab1e4c9-41e9-4755-a5eb-42a100712a38')\"\n",
              "            title=\"Suggest charts\"\n",
              "            style=\"display:none;\">\n",
              "\n",
              "<svg xmlns=\"http://www.w3.org/2000/svg\" height=\"24px\"viewBox=\"0 0 24 24\"\n",
              "     width=\"24px\">\n",
              "    <g>\n",
              "        <path d=\"M19 3H5c-1.1 0-2 .9-2 2v14c0 1.1.9 2 2 2h14c1.1 0 2-.9 2-2V5c0-1.1-.9-2-2-2zM9 17H7v-7h2v7zm4 0h-2V7h2v10zm4 0h-2v-4h2v4z\"/>\n",
              "    </g>\n",
              "</svg>\n",
              "  </button>\n",
              "\n",
              "<style>\n",
              "  .colab-df-quickchart {\n",
              "      --bg-color: #E8F0FE;\n",
              "      --fill-color: #1967D2;\n",
              "      --hover-bg-color: #E2EBFA;\n",
              "      --hover-fill-color: #174EA6;\n",
              "      --disabled-fill-color: #AAA;\n",
              "      --disabled-bg-color: #DDD;\n",
              "  }\n",
              "\n",
              "  [theme=dark] .colab-df-quickchart {\n",
              "      --bg-color: #3B4455;\n",
              "      --fill-color: #D2E3FC;\n",
              "      --hover-bg-color: #434B5C;\n",
              "      --hover-fill-color: #FFFFFF;\n",
              "      --disabled-bg-color: #3B4455;\n",
              "      --disabled-fill-color: #666;\n",
              "  }\n",
              "\n",
              "  .colab-df-quickchart {\n",
              "    background-color: var(--bg-color);\n",
              "    border: none;\n",
              "    border-radius: 50%;\n",
              "    cursor: pointer;\n",
              "    display: none;\n",
              "    fill: var(--fill-color);\n",
              "    height: 32px;\n",
              "    padding: 0;\n",
              "    width: 32px;\n",
              "  }\n",
              "\n",
              "  .colab-df-quickchart:hover {\n",
              "    background-color: var(--hover-bg-color);\n",
              "    box-shadow: 0 1px 2px rgba(60, 64, 67, 0.3), 0 1px 3px 1px rgba(60, 64, 67, 0.15);\n",
              "    fill: var(--button-hover-fill-color);\n",
              "  }\n",
              "\n",
              "  .colab-df-quickchart-complete:disabled,\n",
              "  .colab-df-quickchart-complete:disabled:hover {\n",
              "    background-color: var(--disabled-bg-color);\n",
              "    fill: var(--disabled-fill-color);\n",
              "    box-shadow: none;\n",
              "  }\n",
              "\n",
              "  .colab-df-spinner {\n",
              "    border: 2px solid var(--fill-color);\n",
              "    border-color: transparent;\n",
              "    border-bottom-color: var(--fill-color);\n",
              "    animation:\n",
              "      spin 1s steps(1) infinite;\n",
              "  }\n",
              "\n",
              "  @keyframes spin {\n",
              "    0% {\n",
              "      border-color: transparent;\n",
              "      border-bottom-color: var(--fill-color);\n",
              "      border-left-color: var(--fill-color);\n",
              "    }\n",
              "    20% {\n",
              "      border-color: transparent;\n",
              "      border-left-color: var(--fill-color);\n",
              "      border-top-color: var(--fill-color);\n",
              "    }\n",
              "    30% {\n",
              "      border-color: transparent;\n",
              "      border-left-color: var(--fill-color);\n",
              "      border-top-color: var(--fill-color);\n",
              "      border-right-color: var(--fill-color);\n",
              "    }\n",
              "    40% {\n",
              "      border-color: transparent;\n",
              "      border-right-color: var(--fill-color);\n",
              "      border-top-color: var(--fill-color);\n",
              "    }\n",
              "    60% {\n",
              "      border-color: transparent;\n",
              "      border-right-color: var(--fill-color);\n",
              "    }\n",
              "    80% {\n",
              "      border-color: transparent;\n",
              "      border-right-color: var(--fill-color);\n",
              "      border-bottom-color: var(--fill-color);\n",
              "    }\n",
              "    90% {\n",
              "      border-color: transparent;\n",
              "      border-bottom-color: var(--fill-color);\n",
              "    }\n",
              "  }\n",
              "</style>\n",
              "\n",
              "  <script>\n",
              "    async function quickchart(key) {\n",
              "      const quickchartButtonEl =\n",
              "        document.querySelector('#' + key + ' button');\n",
              "      quickchartButtonEl.disabled = true;  // To prevent multiple clicks.\n",
              "      quickchartButtonEl.classList.add('colab-df-spinner');\n",
              "      try {\n",
              "        const charts = await google.colab.kernel.invokeFunction(\n",
              "            'suggestCharts', [key], {});\n",
              "      } catch (error) {\n",
              "        console.error('Error during call to suggestCharts:', error);\n",
              "      }\n",
              "      quickchartButtonEl.classList.remove('colab-df-spinner');\n",
              "      quickchartButtonEl.classList.add('colab-df-quickchart-complete');\n",
              "    }\n",
              "    (() => {\n",
              "      let quickchartButtonEl =\n",
              "        document.querySelector('#df-9ab1e4c9-41e9-4755-a5eb-42a100712a38 button');\n",
              "      quickchartButtonEl.style.display =\n",
              "        google.colab.kernel.accessAllowed ? 'block' : 'none';\n",
              "    })();\n",
              "  </script>\n",
              "</div>\n",
              "\n",
              "    </div>\n",
              "  </div>\n"
            ],
            "application/vnd.google.colaboratory.intrinsic+json": {
              "type": "dataframe",
              "variable_name": "stations_built_per_year_pd",
              "summary": "{\n  \"name\": \"stations_built_per_year_pd\",\n  \"rows\": 48,\n  \"fields\": [\n    {\n      \"column\": \"Opening Date\",\n      \"properties\": {\n        \"dtype\": \"date\",\n        \"min\": \"2002-12-24\",\n        \"max\": \"2019-09-03\",\n        \"num_unique_values\": 48,\n        \"samples\": [\n          \"2010-03-10\",\n          \"2010-06-21\",\n          \"2004-12-20\"\n        ],\n        \"semantic_type\": \"\",\n        \"description\": \"\"\n      }\n    },\n    {\n      \"column\": \"count\",\n      \"properties\": {\n        \"dtype\": \"number\",\n        \"std\": 5,\n        \"min\": 1,\n        \"max\": 22,\n        \"num_unique_values\": 15,\n        \"samples\": [\n          16,\n          13,\n          4\n        ],\n        \"semantic_type\": \"\",\n        \"description\": \"\"\n      }\n    }\n  ]\n}"
            }
          },
          "metadata": {},
          "execution_count": 152
        }
      ]
    },
    {
      "cell_type": "code",
      "source": [
        "import pandas as pd\n",
        "stations_built_per_year_pd['Opening Date']=pd.to_datetime(stations_built_per_year_pd['Opening Date'])\n",
        "#print(stations_built_per_year_pd['Opening Date'].dtype)\n",
        "print(stations_built_per_year_pd)"
      ],
      "metadata": {
        "colab": {
          "base_uri": "https://localhost:8080/"
        },
        "id": "COEr6QF53HNw",
        "outputId": "fe26a8c4-293e-4b44-fb63-af2c437d0f25"
      },
      "execution_count": 153,
      "outputs": [
        {
          "output_type": "stream",
          "name": "stdout",
          "text": [
            "   Opening Date  count\n",
            "0    2002-12-25      4\n",
            "1    2017-12-25      9\n",
            "2    2009-12-11     10\n",
            "3    2009-04-02      5\n",
            "4    2017-04-25      2\n",
            "5    2010-02-04     15\n",
            "6    2018-06-24      7\n",
            "7    2008-04-06      3\n",
            "8    2011-01-14      3\n",
            "9    2002-12-24      2\n",
            "10   2015-06-09      9\n",
            "11   2019-04-10      3\n",
            "12   2010-08-26      1\n",
            "13   2018-05-29     16\n",
            "14   2014-06-26      2\n",
            "15   2011-07-14      2\n",
            "16   2015-10-11      3\n",
            "17   2010-02-09      1\n",
            "18   2009-10-05      2\n",
            "19   2005-03-07      6\n",
            "20   2018-12-31      4\n",
            "21   2017-05-28      4\n",
            "22   2015-08-06      1\n",
            "23   2011-02-23      4\n",
            "24   2018-06-08      6\n",
            "25   2011-08-27      1\n",
            "26   2004-12-20      4\n",
            "27   2010-03-10     13\n",
            "28   2010-10-30      2\n",
            "29   2011-08-24      1\n",
            "30   2006-01-04      6\n",
            "31   2019-08-03      8\n",
            "32   2018-03-14     13\n",
            "33   2011-08-15      2\n",
            "34   2010-06-01      5\n",
            "35   2004-03-31      7\n",
            "36   2010-03-09      8\n",
            "37   2018-10-31     16\n",
            "38   2006-11-11      3\n",
            "39   2014-07-05      1\n",
            "40   2010-06-21      9\n",
            "41   2019-09-03      5\n",
            "42   2017-03-31      3\n",
            "43   2019-01-25     21\n",
            "44   2013-11-14      5\n",
            "45   2005-12-30     22\n",
            "46   2018-11-19      2\n",
            "47   2003-03-10      4\n"
          ]
        }
      ]
    },
    {
      "cell_type": "code",
      "source": [
        "stations_built_per_year_pd['Opening Date'].dtype"
      ],
      "metadata": {
        "colab": {
          "base_uri": "https://localhost:8080/"
        },
        "id": "zDr1ZGeZ4AHw",
        "outputId": "a7cf037b-cc27-4c7e-c050-fd7565d9206e"
      },
      "execution_count": 154,
      "outputs": [
        {
          "output_type": "execute_result",
          "data": {
            "text/plain": [
              "dtype('<M8[ns]')"
            ]
          },
          "metadata": {},
          "execution_count": 154
        }
      ]
    },
    {
      "cell_type": "code",
      "source": [
        "stations_built_per_year_pd['Opening Date']=stations_built_per_year_pd['Opening Date'].dt.year\n",
        "#stations_built_per_year_pd['Opening Date']=stations_built_per_year_pd['Opening Date'].sort_values(ascending=True,by='Opening date')\n",
        "print(stations_built_per_year_pd)"
      ],
      "metadata": {
        "colab": {
          "base_uri": "https://localhost:8080/"
        },
        "id": "moLzHyy94HJ2",
        "outputId": "d04ad1cc-eb22-4cf7-910f-6ad871711076"
      },
      "execution_count": 155,
      "outputs": [
        {
          "output_type": "stream",
          "name": "stdout",
          "text": [
            "    Opening Date  count\n",
            "0           2002      4\n",
            "1           2017      9\n",
            "2           2009     10\n",
            "3           2009      5\n",
            "4           2017      2\n",
            "5           2010     15\n",
            "6           2018      7\n",
            "7           2008      3\n",
            "8           2011      3\n",
            "9           2002      2\n",
            "10          2015      9\n",
            "11          2019      3\n",
            "12          2010      1\n",
            "13          2018     16\n",
            "14          2014      2\n",
            "15          2011      2\n",
            "16          2015      3\n",
            "17          2010      1\n",
            "18          2009      2\n",
            "19          2005      6\n",
            "20          2018      4\n",
            "21          2017      4\n",
            "22          2015      1\n",
            "23          2011      4\n",
            "24          2018      6\n",
            "25          2011      1\n",
            "26          2004      4\n",
            "27          2010     13\n",
            "28          2010      2\n",
            "29          2011      1\n",
            "30          2006      6\n",
            "31          2019      8\n",
            "32          2018     13\n",
            "33          2011      2\n",
            "34          2010      5\n",
            "35          2004      7\n",
            "36          2010      8\n",
            "37          2018     16\n",
            "38          2006      3\n",
            "39          2014      1\n",
            "40          2010      9\n",
            "41          2019      5\n",
            "42          2017      3\n",
            "43          2019     21\n",
            "44          2013      5\n",
            "45          2005     22\n",
            "46          2018      2\n",
            "47          2003      4\n"
          ]
        }
      ]
    },
    {
      "cell_type": "code",
      "source": [
        "stations_built_per_year_pd_sorted=stations_built_per_year_pd.sort_values(by='Opening Date')\n",
        "print(stations_built_per_year_pd_sorted)"
      ],
      "metadata": {
        "colab": {
          "base_uri": "https://localhost:8080/"
        },
        "id": "avmlO7KVVope",
        "outputId": "f77803e8-e768-4214-d8ab-ddf7b2af782e"
      },
      "execution_count": 161,
      "outputs": [
        {
          "output_type": "stream",
          "name": "stdout",
          "text": [
            "    Opening Date  count\n",
            "0           2002      4\n",
            "9           2002      2\n",
            "47          2003      4\n",
            "35          2004      7\n",
            "26          2004      4\n",
            "45          2005     22\n",
            "19          2005      6\n",
            "38          2006      3\n",
            "30          2006      6\n",
            "7           2008      3\n",
            "3           2009      5\n",
            "18          2009      2\n",
            "2           2009     10\n",
            "36          2010      8\n",
            "28          2010      2\n",
            "17          2010      1\n",
            "40          2010      9\n",
            "5           2010     15\n",
            "27          2010     13\n",
            "34          2010      5\n",
            "12          2010      1\n",
            "33          2011      2\n",
            "29          2011      1\n",
            "25          2011      1\n",
            "23          2011      4\n",
            "8           2011      3\n",
            "15          2011      2\n",
            "44          2013      5\n",
            "39          2014      1\n",
            "14          2014      2\n",
            "10          2015      9\n",
            "22          2015      1\n",
            "16          2015      3\n",
            "21          2017      4\n",
            "4           2017      2\n",
            "42          2017      3\n",
            "1           2017      9\n",
            "6           2018      7\n",
            "24          2018      6\n",
            "37          2018     16\n",
            "46          2018      2\n",
            "13          2018     16\n",
            "32          2018     13\n",
            "20          2018      4\n",
            "41          2019      5\n",
            "11          2019      3\n",
            "43          2019     21\n",
            "31          2019      8\n"
          ]
        }
      ]
    },
    {
      "cell_type": "code",
      "source": [
        "plt.figure(figsize=(10,6))\n",
        "plt.bar(stations_built_per_year_pd['Opening Date'],stations_built_per_year_pd['count'])\n",
        "plt.title('Stations built per year')\n",
        "plt.xlabel('Year')\n",
        "plt.ylabel('Stations')\n",
        "plt.xticks([2001,2002,2003,2004,2005,2006,2007,2008,2009,2010,2011,2012,2013,2014,2015,2016,2017,2018,2019,2020,2021])\n",
        "plt.show()"
      ],
      "metadata": {
        "colab": {
          "base_uri": "https://localhost:8080/",
          "height": 564
        },
        "id": "17F05-6Nz3k7",
        "outputId": "c6453680-03ae-4811-a607-827db5923d66"
      },
      "execution_count": 167,
      "outputs": [
        {
          "output_type": "display_data",
          "data": {
            "text/plain": [
              "<Figure size 1000x600 with 1 Axes>"
            ],
            "image/png": "[encoded data removed]"
          },
          "metadata": {}
        }
      ]
    },
    {
      "cell_type": "markdown",
      "source": [
        "Most number of metro stations were opened in the year 2005 followed by 2019 and 2018. The first metro station was opened in the year 2002. No metro statio were opened in the years 2007, 2012, 2016."
      ],
      "metadata": {
        "id": "sPyRLzbsjICv"
      }
    },
    {
      "cell_type": "code",
      "source": [],
      "metadata": {
        "id": "B72axlpJjnxG"
      },
      "execution_count": null,
      "outputs": []
    }
  ]
}